{
 "cells": [
  {
   "cell_type": "code",
   "execution_count": null,
   "id": "4d198fd5",
   "metadata": {},
   "outputs": [],
   "source": [
    "\n",
    "import pandas as pd\n",
    "import matplotlib.pyplot as plt\n",
    "from sklearn.linear_model import LinearRegression\n",
    "from sklearn.preprocessing import PolynomialFeatures\n",
    "\n",
    "df = pd.read_csv('../../dataset/salary_data.csv')\n",
    "\n",
    "# Reshape input\n",
    "X = df[['Experience']]\n",
    "y = df['Salary']\n",
    "\n",
    "# Create polynomial features (degree 2 or 3 works well here)\n",
    "poly = PolynomialFeatures(degree=3)\n",
    "X_poly = poly.fit_transform(X)\n",
    "\n",
    "# Train model\n",
    "model = LinearRegression()\n",
    "model.fit(X_poly, y)\n",
    "\n",
    "# Predict\n",
    "experience_test = pd.DataFrame({'Experience': [6.5]})\n",
    "predicted_salary = model.predict(poly.transform(experience_test))\n",
    "print(f\"Predicted salary for 6.5 years experience: ₹{predicted_salary[0]:,.2f}\")\n",
    "\n",
    "import numpy as np\n",
    "\n",
    "# For smooth curve\n",
    "X_range = np.linspace(1, 10, 100).reshape(-1, 1)\n",
    "y_pred = model.predict(poly.transform(X_range))\n",
    "\n",
    "plt.scatter(X, y, color='blue', label='Actual Data')\n",
    "plt.plot(X_range, y_pred, color='red', label='Polynomial Regression (deg=1)')\n",
    "plt.title(\"Polynomial Regression Curve\")\n",
    "plt.xlabel(\"Experience (Years)\")\n",
    "plt.ylabel(\"Salary (₹)\")\n",
    "plt.legend()\n",
    "plt.grid(True)\n",
    "plt.show()\n",
    "\n",
    "\n"
   ]
  },
  {
   "cell_type": "code",
   "execution_count": null,
   "id": "5197e4a2",
   "metadata": {},
   "outputs": [],
   "source": []
  }
 ],
 "metadata": {
  "kernelspec": {
   "display_name": "Python 3",
   "language": "python",
   "name": "python3"
  },
  "language_info": {
   "codemirror_mode": {
    "name": "ipython",
    "version": 3
   },
   "file_extension": ".py",
   "mimetype": "text/x-python",
   "name": "python",
   "nbconvert_exporter": "python",
   "pygments_lexer": "ipython3",
   "version": "3.12.3"
  }
 },
 "nbformat": 4,
 "nbformat_minor": 5
}
