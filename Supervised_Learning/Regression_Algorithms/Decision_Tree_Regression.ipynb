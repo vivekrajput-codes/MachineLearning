{
 "cells": [
  {
   "cell_type": "code",
   "execution_count": null,
   "id": "ddadf366",
   "metadata": {},
   "outputs": [],
   "source": [
    "import pandas as pd\n",
    "from sklearn.tree import DecisionTreeRegressor\n",
    "from sklearn.metrics import mean_absolute_error\n",
    "from sklearn.tree import plot_tree\n",
    "import matplotlib.pyplot as plt\n",
    "from sklearn.model_selection import train_test_split\n",
    "\n",
    "df = pd.read_csv('../../dataset/melb_data.csv')\n",
    "\n",
    "\n",
    "# Drop rows with missing values in relevant columns\n",
    "df = df[['Price', 'Rooms', 'Distance', 'Bathroom', 'Landsize', 'BuildingArea']].dropna()\n",
    "\n",
    "# Define target and features\n",
    "X = df[['Rooms', 'Distance', 'Bathroom', 'Landsize', 'BuildingArea']]\n",
    "y = df['Price']\n",
    "\n",
    "\n",
    "X_train, X_test, y_train, y_test = train_test_split(\n",
    "    X, y, test_size=0.2, random_state=42\n",
    ")\n",
    "\n",
    "\n",
    "model = DecisionTreeRegressor(random_state=42)\n",
    "model.fit(X_train, y_train)\n",
    "\n",
    "\n",
    "y_pred = model.predict(X_test)\n",
    "mae = mean_absolute_error(y_test, y_pred)\n",
    "\n",
    "print(f\"Mean Absolute Error: ₹{mae:,.2f}\")\n",
    "\n",
    "model = DecisionTreeRegressor(max_depth=10, random_state=42)\n",
    "model.fit(X_train, y_train)\n",
    "y_pred = model.predict(X_test)\n",
    "\n",
    "mae = mean_absolute_error(y_test, y_pred)\n",
    "print(f\"MAE with max_depth=5: ₹{mae:,.2f}\")\n",
    "\n",
    "\n",
    "plt.figure(figsize=(20, 10))\n",
    "plot_tree(model, feature_names=X.columns, filled=True, rounded=True)\n",
    "plt.show()\n",
    "\n"
   ]
  }
 ],
 "metadata": {
  "kernelspec": {
   "display_name": "Python 3",
   "language": "python",
   "name": "python3"
  },
  "language_info": {
   "codemirror_mode": {
    "name": "ipython",
    "version": 3
   },
   "file_extension": ".py",
   "mimetype": "text/x-python",
   "name": "python",
   "nbconvert_exporter": "python",
   "pygments_lexer": "ipython3",
   "version": "3.12.3"
  }
 },
 "nbformat": 4,
 "nbformat_minor": 5
}
