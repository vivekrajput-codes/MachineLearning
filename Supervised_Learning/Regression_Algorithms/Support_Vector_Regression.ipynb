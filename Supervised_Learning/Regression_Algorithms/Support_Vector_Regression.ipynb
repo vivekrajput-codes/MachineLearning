{
 "cells": [
  {
   "cell_type": "code",
   "execution_count": null,
   "id": "3cfc6a8e",
   "metadata": {},
   "outputs": [],
   "source": [
    "import pandas as pd\n",
    "import numpy as np\n",
    "import matplotlib.pyplot as plt\n",
    "from sklearn.svm import SVR\n",
    "from sklearn.preprocessing import StandardScaler\n",
    "\n",
    "# Load dataset\n",
    "df = pd.read_csv('../../dataset/salary_data.csv')  # Use your existing file\n",
    "\n",
    "X = df[['Experience']].values\n",
    "y = df[['Salary']].values\n",
    "\n",
    "\n",
    "# Scale both X and y (very important for SVR!)\n",
    "scaler_X = StandardScaler()\n",
    "scaler_y = StandardScaler()\n",
    "\n",
    "\n",
    "X_scaled = scaler_X.fit_transform(X)\n",
    "y_scaled = scaler_y.fit_transform(y)\n",
    "\n",
    "model = SVR(kernel='rbf')  # You can also try 'linear', 'poly'\n",
    "model.fit(X_scaled, y_scaled.ravel())  # Flatten y\n",
    "\n",
    "# Predict for 6.5 years of experience\n",
    "input_val = scaler_X.transform([[6.5]])\n",
    "pred_scaled = model.predict(input_val)\n",
    "\n",
    "# Inverse transform to get actual salary\n",
    "pred_salary = scaler_y.inverse_transform(pred_scaled.reshape(-1, 1))\n",
    "print(f\"Predicted salary for 6.5 years of experience: ₹{pred_salary[0][0]:,.2f}\")\n",
    "\n",
    "# Create smooth curve\n",
    "X_grid = np.linspace(min(X), max(X), 100).reshape(-1, 1)\n",
    "X_grid_scaled = scaler_X.transform(X_grid)\n",
    "y_grid_scaled = model.predict(X_grid_scaled)\n",
    "y_grid = scaler_y.inverse_transform(y_grid_scaled.reshape(-1, 1))\n",
    "\n",
    "plt.scatter(X, y, color='blue', label='Actual')\n",
    "plt.plot(X_grid, y_grid, color='red', label='SVR Prediction')\n",
    "plt.title('SVR Regression Curve')\n",
    "plt.xlabel('Years of Experience')\n",
    "plt.ylabel('Salary')\n",
    "plt.legend()\n",
    "plt.grid(True)\n",
    "plt.show()\n",
    "\n",
    "\n",
    "\n"
   ]
  }
 ],
 "metadata": {
  "kernelspec": {
   "display_name": "Python 3",
   "language": "python",
   "name": "python3"
  },
  "language_info": {
   "codemirror_mode": {
    "name": "ipython",
    "version": 3
   },
   "file_extension": ".py",
   "mimetype": "text/x-python",
   "name": "python",
   "nbconvert_exporter": "python",
   "pygments_lexer": "ipython3",
   "version": "3.12.3"
  }
 },
 "nbformat": 4,
 "nbformat_minor": 5
}
