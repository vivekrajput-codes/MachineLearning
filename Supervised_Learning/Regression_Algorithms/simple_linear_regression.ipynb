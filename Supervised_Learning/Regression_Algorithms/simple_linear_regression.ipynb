{
 "cells": [
  {
   "cell_type": "code",
   "execution_count": null,
   "id": "b4b095ac",
   "metadata": {},
   "outputs": [],
   "source": [
    "import numpy as np\n",
    "import pandas as pd\n",
    "import matplotlib.pyplot as plt\n",
    "from sklearn.linear_model import LinearRegression\n",
    "\n",
    "# Data\n",
    "df = pd.DataFrame({'Experience':[1,2,3,4,5],'Salary':[30000,50000,65000,85000,105000]})\n",
    "X = df[['Experience']].values\n",
    "y = df['Salary']\n",
    "\n",
    "# Model\n",
    "model = LinearRegression()\n",
    "model.fit(X, y)\n",
    "\n",
    "print(f\"Model Coefficients: {model.coef_}\")\n",
    "print(f\"Model Intercept: {model.intercept_}\")\n",
    "\n",
    "# Predict for multiple values\n",
    "hours = np.array([4, 5, 6]).reshape(-1, 1)\n",
    "predicted_score = model.predict(hours)\n",
    "print(f\"Predicted salary for 4, 5, 6 years: {predicted_score}\")\n",
    "\n",
    "# Plotting\n",
    "plt.scatter(X, y, color='blue', label='Training Data')\n",
    "plt.plot(X, model.predict(X), color='red', label='Prediction Line')\n",
    "plt.scatter(hours, predicted_score, color='green', s=100, marker='X', label='Predicted Points (4,5,6 yrs)')\n",
    "\n",
    "plt.xlabel(\"Years of Experience\")\n",
    "plt.ylabel(\"Salary (₹)\")\n",
    "plt.title(\"Linear Regression: Experience vs Salary\")\n",
    "plt.legend()\n",
    "plt.xlim(0, 10)\n",
    "plt.ylim(0, 150000)\n",
    "plt.grid(True)\n",
    "plt.show()\n",
    "\n"
   ]
  }
 ],
 "metadata": {
  "kernelspec": {
   "display_name": "Python 3",
   "language": "python",
   "name": "python3"
  },
  "language_info": {
   "codemirror_mode": {
    "name": "ipython",
    "version": 3
   },
   "file_extension": ".py",
   "mimetype": "text/x-python",
   "name": "python",
   "nbconvert_exporter": "python",
   "pygments_lexer": "ipython3",
   "version": "3.12.3"
  }
 },
 "nbformat": 4,
 "nbformat_minor": 5
}
